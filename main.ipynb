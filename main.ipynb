{
 "cells": [
  {
   "cell_type": "code",
   "execution_count": 1,
   "metadata": {},
   "outputs": [],
   "source": [
    "#word segmenter\n",
    "import py_vncorenlp\n",
    "import os\n",
    "    \n",
    "#py_vncorenlp.download_model(save_dir='/VnCoreNLP')\n",
    "\n",
    "here = os.path.dirname(os.path.abspath('main.ipynb'))\n",
    "os.chdir(here)\n",
    "\n",
    "rdrsegmenter = py_vncorenlp.VnCoreNLP(save_dir=os.path.join(here, 'VnCoreNLP'))"
   ]
  },
  {
   "cell_type": "code",
   "execution_count": 2,
   "metadata": {},
   "outputs": [
    {
     "name": "stderr",
     "output_type": "stream",
     "text": [
      "c:\\Python311\\Lib\\site-packages\\tqdm\\auto.py:21: TqdmWarning: IProgress not found. Please update jupyter and ipywidgets. See https://ipywidgets.readthedocs.io/en/stable/user_install.html\n",
      "  from .autonotebook import tqdm as notebook_tqdm\n"
     ]
    },
    {
     "name": "stdout",
     "output_type": "stream",
     "text": [
      "WARNING:tensorflow:From c:\\Python311\\Lib\\site-packages\\keras\\src\\losses.py:2976: The name tf.losses.sparse_softmax_cross_entropy is deprecated. Please use tf.compat.v1.losses.sparse_softmax_cross_entropy instead.\n",
      "\n"
     ]
    },
    {
     "name": "stderr",
     "output_type": "stream",
     "text": [
      "Token indices sequence length is longer than the specified maximum sequence length for this model (6422 > 256). Running this sequence through the model will result in indexing errors\n"
     ]
    },
    {
     "name": "stdout",
     "output_type": "stream",
     "text": [
      "Accuracy: 0.7643835616438356\n"
     ]
    }
   ],
   "source": [
    "import numpy\n",
    "from sklearn.model_selection import train_test_split\n",
    "from sklearn.svm import SVC\n",
    "from sklearn.metrics import accuracy_score\n",
    "from transformers import AutoTokenizer, AutoModel\n",
    "from keras.preprocessing.sequence import pad_sequences\n",
    "import torch\n",
    "\n",
    "# Load pre-trained PhoBERT tokenizer and model\n",
    "phobert_tokenizer = AutoTokenizer.from_pretrained(\"vinai/phobert-base\")\n",
    "phobert_model = AutoModel.from_pretrained(\"vinai/phobert-base\")\n",
    "\n",
    "# Define a function to tokenize and extract features from text\n",
    "def extract_features(text):\n",
    "    #process text\n",
    "    text = rdrsegmenter.word_segment(text)\n",
    "    text = \" \".join(text)\n",
    "    ids = phobert_tokenizer.encode(text)\n",
    "    ids_padded = pad_sequences([ids], maxlen=256, dtype=\"long\", value=0, truncating=\"post\", padding=\"post\")\n",
    "    ids_padded = ids_padded[0]\n",
    "    mask = [int(token_id > 0) for token_id in ids_padded]\n",
    "    ids_input = torch.tensor(ids_padded).to(torch.long).reshape(1,-1)\n",
    "    input_mask = torch.tensor(mask).reshape(1,-1)\n",
    "    \n",
    "    #ids_input = ids_input.squeeze(0)\n",
    "    \n",
    "    with torch.no_grad():\n",
    "        features = phobert_model(input_ids=ids_input, attention_mask=input_mask)\n",
    "    \n",
    "    return features[0][:, 0, :].numpy()\n",
    "\n",
    "# Load and preprocess your labeled dataset\n",
    "# You'll need to prepare your own labeled dataset with texts and corresponding difficulty labels.\n",
    "# Here, we assume you have a list of examples in the format (text, label).\n",
    "def ReadData():\n",
    "    data = []\n",
    "\n",
    "    # Define the labels\n",
    "    labels = [\"difficult\", \"medium\", \"easy\", \"veryeasy\"]\n",
    "\n",
    "    root_directory = here\n",
    "    dataset_directory = root_directory + \"/data\"\n",
    "\n",
    "    # Iterate over the labels\n",
    "    for label in labels:\n",
    "        # Iterate over the files in the folder\n",
    "        for filename in os.listdir(dataset_directory):\n",
    "            # Check if the file matches the label\n",
    "            if filename.startswith(label):\n",
    "                # Read the contents of the file\n",
    "                with open(os.path.join(dataset_directory, filename), \"r\", encoding=\"utf-8\") as file:\n",
    "                    text = file.read()\n",
    "                # Append the text and label to the data list\n",
    "                data.append((text, label))\n",
    "\n",
    "    return data\n",
    "\n",
    "def train():\n",
    "    \n",
    "    data = ReadData()\n",
    "    \n",
    "    X = []\n",
    "    y = []\n",
    "\n",
    "    for text, label in data:\n",
    "        features = extract_features(text)\n",
    "        X.append(features[0])\n",
    "        y.append(label)\n",
    "\n",
    "    # Split the data into training and testing sets\n",
    "    X_train, X_test, y_train, y_test = train_test_split(X, y, test_size=0.2, random_state=42)\n",
    "\n",
    "    # Train a classifier (e.g., Random Forest)\n",
    "    classifier = SVC(kernel='linear', probability=True, gamma=0.125)\n",
    "    classifier.fit(X_train, y_train)\n",
    "\n",
    "    # Make predictions on the test set\n",
    "    y_pred = classifier.predict(X_test)\n",
    "\n",
    "    # Evaluate the model\n",
    "    accuracy = accuracy_score(y_test, y_pred)\n",
    "    print(f\"Accuracy: {accuracy}\")\n",
    "    \n",
    "    return classifier\n",
    "   \n",
    "def predict(text, model):\n",
    "    features = extract_features(text)\n",
    "    prediction = model.predict(features[0])\n",
    "    return prediction    \n",
    "    \n",
    "#main    \n",
    "\n",
    "#train model\n",
    "svc_model = train()\n",
    "\n",
    "#using pickle to save or load model\n",
    "\n"
   ]
  },
  {
   "cell_type": "code",
   "execution_count": 5,
   "metadata": {},
   "outputs": [],
   "source": [
    "import pickle\n",
    "\n",
    "\n",
    "# save\n",
    "with open(here + '/model.pkl','wb') as f:\n",
    "    pickle.dump(svc_model,f)\n",
    "\n",
    "# load\n",
    "#with open('model_pkl', 'rb') as f:\n",
    "#    svc_model = pickle.load(f)\n"
   ]
  }
 ],
 "metadata": {
  "kernelspec": {
   "display_name": "Python 3",
   "language": "python",
   "name": "python3"
  },
  "language_info": {
   "codemirror_mode": {
    "name": "ipython",
    "version": 3
   },
   "file_extension": ".py",
   "mimetype": "text/x-python",
   "name": "python",
   "nbconvert_exporter": "python",
   "pygments_lexer": "ipython3",
   "version": "3.11.0"
  }
 },
 "nbformat": 4,
 "nbformat_minor": 2
}
